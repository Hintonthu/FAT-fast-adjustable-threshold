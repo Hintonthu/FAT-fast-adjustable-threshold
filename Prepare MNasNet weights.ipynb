{
 "cells": [
  {
   "cell_type": "code",
   "execution_count": null,
   "metadata": {},
   "outputs": [],
   "source": [
    "# suppress unnecessary warnings\n",
    "import warnings\n",
    "warnings.filterwarnings('ignore')\n",
    "\n",
    "import os\n",
    "from prepare_weights import extract_weights_from_pb\n",
    "\n",
    "os.environ[\"CUDA_VISIBLE_DEVICES\"] = \"0\"  # limit usage down to one 0-th GPU (use -1 to use CPU) "
   ]
  },
  {
   "cell_type": "markdown",
   "metadata": {},
   "source": [
    "# Extract weights of MNasNet models"
   ]
  },
  {
   "cell_type": "markdown",
   "metadata": {},
   "source": [
    "By default you don't have a storage directory and the .pb model, so you must download the model first and put it anywhere you whant. Just don't forget to specify the correct path below.\n",
    "\n",
    "We support models which are hosted at www.tensorflow.org/lite/models\n",
    "\n",
    "Also, to simplify the process we omit the `output` parameter. Therefore, weights of the specified model will be saved at the same folder as the model and will have the similar name with **\"_weights.pickle\"** ending."
   ]
  },
  {
   "cell_type": "code",
   "execution_count": null,
   "metadata": {},
   "outputs": [],
   "source": [
    "path_to_the_model = \"../storage/mnasnet_original/mnasnet_1.0_128.pb\"\n",
    "\n",
    "extract_weights_from_pb(path_to_the_model, return_dict=False)"
   ]
  },
  {
   "cell_type": "markdown",
   "metadata": {},
   "source": [
    "You can also use the terminal (from the root of the repository)\n",
    "\n",
    "`$ python3 prepare_weights.py /path/to/the/model.pb`\n",
    "\n",
    "OR\n",
    "\n",
    "You also can specify the available devices\n",
    "\n",
    "`$ CUDA_VISIBLE_DEVICES=0 python3 prepare_weights.py /path/to/the/model.pb`"
   ]
  }
 ],
 "metadata": {
  "kernelspec": {
   "display_name": "Python 3",
   "language": "python",
   "name": "python3"
  },
  "language_info": {
   "codemirror_mode": {
    "name": "ipython",
    "version": 3
   },
   "file_extension": ".py",
   "mimetype": "text/x-python",
   "name": "python",
   "nbconvert_exporter": "python",
   "pygments_lexer": "ipython3",
   "version": "3.5.2"
  }
 },
 "nbformat": 4,
 "nbformat_minor": 2
}
